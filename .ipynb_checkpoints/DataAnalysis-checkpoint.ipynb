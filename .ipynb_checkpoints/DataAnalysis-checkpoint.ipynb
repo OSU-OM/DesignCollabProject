{
 "cells": [
  {
   "cell_type": "code",
   "execution_count": 40,
   "metadata": {
    "collapsed": true
   },
   "outputs": [],
   "source": [
    "#Operating Expenditures vs Enrollment data for 2016-2017\n",
    "\n",
    "import pandas as pd\n",
    "\n",
    "districts = pd.read_excel('FY17_EFM_Data.xls').dropna(how = 'all')\n",
    "enrollment = pd.read_excel('1617_DIST_ENROLL.xls').dropna(how = 'all')\n",
    "\n",
    "#Rename some stuff\n",
    "districts.rename(columns = {'Org Type' : 'OrgType', 'Local Education Agency Name' : 'District', \n",
    "                     'Operating Expenditures' : 'OperatingExpenditures'}, inplace = True)\n",
    "enrollment.rename(columns = {'District Name' : 'District'}, inplace = True)\n",
    "\n",
    "#Drop everything that isn't a public school district\n",
    "districts = districts[districts.OrgType == \"Public District\"]\n",
    "\n",
    "districts = districts.join(enrollment.set_index('District'), on='District')\n",
    "\n",
    "#Drop unnecessary data\n",
    "districts = districts.drop(['IRN', 'Instruction', 'Pupil Support', 'Staff Support', 'Operations Support', 'Operating EPP',\n",
    "                  'Instruction EPP', 'Pupil Support EPP', 'Staff Support EPP', 'Administration EPP', 'Operations Support EPP',\n",
    "                 'Operating EPEP', 'Instruction EPEP', 'Pupil Support EPEP', 'Staff Support EPEP', 'Administration',\n",
    "                 'Administration EPEP', 'Operations Support EPEP', 'OrgType', 'District IRN', 'Phone #'], axis=1)\n",
    "\n",
    "districts.to_csv('FundingVsEnrollment.csv', index = False)"
   ]
  },
  {
   "cell_type": "code",
   "execution_count": 45,
   "metadata": {
    "collapsed": true
   },
   "outputs": [],
   "source": [
    "#Operating Expenditures vs Achievemnent data for 2016-2017\n",
    "\n",
    "import pandas as pd\n",
    "\n",
    "districts = pd.read_excel('FY17_EFM_Data.xls').dropna(how = 'all')\n",
    "achievement = pd.read_excel('1617_DISTRICT_ACHIEVEMENT.xls').dropna(how = 'all')\n",
    "\n",
    "#Rename some stuff\n",
    "districts.rename(columns = {'Org Type' : 'OrgType', 'Local Education Agency Name' : 'District', \n",
    "                     'Operating Expenditures' : 'OperatingExpenditures'}, inplace = True)\n",
    "achievement.rename(columns = {'District Name' : 'District'}, inplace = True)\n",
    "\n",
    "#Drop everything that isn't a public school district\n",
    "districts = districts[districts.OrgType == \"Public District\"]\n",
    "\n",
    "districts = districts.join(achievement.set_index('District'), on='District')\n",
    "\n",
    "#Drop unnecessary data\n",
    "districts = districts.drop(['IRN', 'Instruction', 'Pupil Support', 'Staff Support', 'Operations Support', 'Operating EPP',\n",
    "                  'Instruction EPP', 'Pupil Support EPP', 'Staff Support EPP', 'Administration EPP', 'Operations Support EPP',\n",
    "                 'Operating EPEP', 'Instruction EPEP', 'Pupil Support EPEP', 'Staff Support EPEP', 'Administration',\n",
    "                 'Administration EPEP', 'Operations Support EPEP', 'OrgType', 'District IRN', 'Phone #', 'Watermark', 'Region'], axis=1)\n",
    "\n",
    "districts.to_csv('FundingVsAchievement.csv', index = False)"
   ]
  },
  {
   "cell_type": "code",
   "execution_count": 48,
   "metadata": {
    "collapsed": true
   },
   "outputs": [],
   "source": [
    "#Operating Expenditures vs Grad Rate data for 2016-2017\n",
    "\n",
    "import pandas as pd\n",
    "\n",
    "districts = pd.read_excel('FY17_EFM_Data.xls').dropna(how = 'all')\n",
    "gradRate = pd.read_excel('1617_DISTRICT_GRAD_RATE_REVISED.xls').dropna(how = 'all')\n",
    "\n",
    "#Rename some stuff\n",
    "districts.rename(columns = {'Org Type' : 'OrgType', 'Local Education Agency Name' : 'District', \n",
    "                     'Operating Expenditures' : 'OperatingExpenditures'}, inplace = True)\n",
    "gradRate.rename(columns = {'District Name' : 'District'}, inplace = True)\n",
    "\n",
    "#Drop everything that isn't a public school district\n",
    "districts = districts[districts.OrgType == \"Public District\"]\n",
    "\n",
    "districts = districts.join(gradRate.set_index('District'), on='District')\n",
    "\n",
    "#Drop unnecessary data\n",
    "districts = districts.drop(['IRN', 'Instruction', 'Pupil Support', 'Staff Support', 'Operations Support', 'Operating EPP',\n",
    "                  'Instruction EPP', 'Pupil Support EPP', 'Staff Support EPP', 'Administration EPP', 'Operations Support EPP',\n",
    "                 'Operating EPEP', 'Instruction EPEP', 'Pupil Support EPEP', 'Staff Support EPEP', 'Administration',\n",
    "                 'Administration EPEP', 'Operations Support EPEP', 'OrgType', 'District IRN', 'Phone #', 'Watermark', 'Region'], axis=1)\n",
    "\n",
    "districts.to_csv('FundingVsGradRate.csv', index = False)"
   ]
  },
  {
   "cell_type": "code",
   "execution_count": 52,
   "metadata": {
    "collapsed": true
   },
   "outputs": [],
   "source": [
    "#Operating Expenditures vs Literacy data for 2016-2017\n",
    "\n",
    "import pandas as pd\n",
    "\n",
    "districts = pd.read_excel('FY17_EFM_Data.xls').dropna(how = 'all')\n",
    "literacy = pd.read_excel('DISTRICT_K3_1617.xls').dropna(how = 'all')\n",
    "\n",
    "#Rename some stuff\n",
    "districts.rename(columns = {'Org Type' : 'OrgType', 'Local Education Agency Name' : 'District', \n",
    "                     'Operating Expenditures' : 'OperatingExpenditures'}, inplace = True)\n",
    "literacy.rename(columns = {'District Name' : 'District'}, inplace = True)\n",
    "\n",
    "#Drop everything that isn't a public school district\n",
    "districts = districts[districts.OrgType == \"Public District\"]\n",
    "\n",
    "districts = districts.join(literacy.set_index('District'), on='District')\n",
    "\n",
    "#Drop unnecessary data\n",
    "districts = districts.drop(['IRN', 'Instruction', 'Pupil Support', 'Staff Support', 'Operations Support', 'Operating EPP',\n",
    "                  'Instruction EPP', 'Pupil Support EPP', 'Staff Support EPP', 'Administration EPP', 'Operations Support EPP',\n",
    "                 'Operating EPEP', 'Instruction EPEP', 'Pupil Support EPEP', 'Staff Support EPEP', 'Administration',\n",
    "                 'Administration EPEP', 'Operations Support EPEP', 'OrgType', 'District IRN', 'Phone', 'Watermark', 'Region'], axis=1)\n",
    "\n",
    "districts.to_csv('FundingVsLiteracy.csv', index = False)"
   ]
  },
  {
   "cell_type": "code",
   "execution_count": 54,
   "metadata": {
    "collapsed": true
   },
   "outputs": [],
   "source": [
    "#Operating Expenditures vs Preparedness for Success data for 2016-2017\n",
    "\n",
    "import pandas as pd\n",
    "\n",
    "districts = pd.read_excel('FY17_EFM_Data.xls').dropna(how = 'all')\n",
    "pfs = pd.read_excel('DISTRICT_PFS1617.xls').dropna(how = 'all')\n",
    "\n",
    "#Rename some stuff\n",
    "districts.rename(columns = {'Org Type' : 'OrgType', 'Local Education Agency Name' : 'District', \n",
    "                     'Operating Expenditures' : 'OperatingExpenditures'}, inplace = True)\n",
    "pfs.rename(columns = {'District Name' : 'District'}, inplace = True)\n",
    "\n",
    "#Drop everything that isn't a public school district\n",
    "districts = districts[districts.OrgType == \"Public District\"]\n",
    "\n",
    "districts = districts.join(pfs.set_index('District'), on='District')\n",
    "\n",
    "#Drop unnecessary data\n",
    "districts = districts.drop(['IRN', 'Instruction', 'Pupil Support', 'Staff Support', 'Operations Support', 'Operating EPP',\n",
    "                  'Instruction EPP', 'Pupil Support EPP', 'Staff Support EPP', 'Administration EPP', 'Operations Support EPP',\n",
    "                 'Operating EPEP', 'Instruction EPEP', 'Pupil Support EPEP', 'Staff Support EPEP', 'Administration',\n",
    "                 'Administration EPEP', 'Operations Support EPEP', 'OrgType', 'District IRN', 'Phone', 'Watermark', 'Region'], axis=1)\n",
    "\n",
    "districts.to_csv('FundingVsPreparednessForSuccess.csv', index = False)"
   ]
  },
  {
   "cell_type": "code",
   "execution_count": 66,
   "metadata": {
    "collapsed": true
   },
   "outputs": [],
   "source": [
    "#Operating Expenditures vs Teacher stats for 2016-2017\n",
    "\n",
    "import pandas as pd\n",
    "\n",
    "districts = pd.read_excel('FY17_EFM_Data.xls').dropna(how = 'all')\n",
    "teacherStats = pd.read_excel('DISTRICT_TEACHER_2017_fin.xls').dropna(how = 'all')\n",
    "\n",
    "#Rename some stuff\n",
    "districts.rename(columns = {'Org Type' : 'OrgType', 'Local Education Agency Name' : 'District', \n",
    "                     'Operating Expenditures' : 'OperatingExpenditures'}, inplace = True)\n",
    "teacherStats.rename(columns = {'District Name' : 'District'}, inplace = True)\n",
    "\n",
    "#Drop everything that isn't a public school district\n",
    "districts = districts[districts.OrgType == \"Public District\"]\n",
    "\n",
    "districts = districts.join(teacherStats.set_index('District'), on='District')\n",
    "\n",
    "#Drop unnecessary data\n",
    "districts = districts.drop(['IRN', 'Instruction', 'Pupil Support', 'Staff Support', 'Operations Support', 'Operating EPP',\n",
    "                  'Instruction EPP', 'Pupil Support EPP', 'Staff Support EPP', 'Administration EPP', 'Operations Support EPP',\n",
    "                 'Operating EPEP', 'Instruction EPEP', 'Pupil Support EPEP', 'Staff Support EPEP', 'Administration',\n",
    "                 'Administration EPEP', 'Operations Support EPEP', 'OrgType', 'District IRN', 'Watermark', 'Region'], axis=1)\n",
    "\n",
    "districts.to_csv('FundingVsTeacherStats.csv', index = False)"
   ]
  },
  {
   "cell_type": "code",
   "execution_count": null,
   "metadata": {
    "collapsed": true
   },
   "outputs": [],
   "source": []
  }
 ],
 "metadata": {
  "kernelspec": {
   "display_name": "Python 3",
   "language": "python",
   "name": "python3"
  },
  "language_info": {
   "codemirror_mode": {
    "name": "ipython",
    "version": 3
   },
   "file_extension": ".py",
   "mimetype": "text/x-python",
   "name": "python",
   "nbconvert_exporter": "python",
   "pygments_lexer": "ipython3",
   "version": "3.6.3"
  }
 },
 "nbformat": 4,
 "nbformat_minor": 2
}
